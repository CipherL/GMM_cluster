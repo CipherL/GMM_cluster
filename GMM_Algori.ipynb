{
 "cells": [
  {
   "cell_type": "markdown",
   "metadata": {},
   "source": [
    "## import related package"
   ]
  },
  {
   "cell_type": "code",
   "execution_count": 1,
   "metadata": {},
   "outputs": [],
   "source": [
    "import os\n",
    "import math\n",
    "import numpy as np\n",
    "import pandas as pd\n",
    "import random\n",
    "import matplotlib.pyplot as plt\n",
    "from pandas import DataFrame\n",
    "from scipy.io import loadmat\n",
    "from sklearn.mixture import GaussianMixture"
   ]
  },
  {
   "cell_type": "markdown",
   "metadata": {},
   "source": [
    "## extract one Frame each time"
   ]
  },
  {
   "cell_type": "code",
   "execution_count": 2,
   "metadata": {},
   "outputs": [],
   "source": [
    "def Slice_oneframe(Data):\n",
    "    \"\"\"\n",
    "    frome the source data slice one frame\n",
    "    \"\"\"\n",
    "    Rssi = Data[0,3]\n",
    "    Data_frame = []\n",
    "    j = 0\n",
    "    for i in list(range(len(Data[:,0]))):\n",
    "        if Data[i,3] == Rssi:\n",
    "            if j == 200:\n",
    "                Data_frame.append(Data[i,1:3])\n",
    "        else:\n",
    "            Rssi = Data[i,3]\n",
    "            j = j+1\n",
    "            if j>201:\n",
    "                break\n",
    "    return np.array(Data_frame)"
   ]
  },
  {
   "cell_type": "markdown",
   "metadata": {},
   "source": [
    "## implementation for E-Step"
   ]
  },
  {
   "cell_type": "code",
   "execution_count": 3,
   "metadata": {},
   "outputs": [],
   "source": [
    "def Estimation_step(X_Frame, Mu, Sigma, Pi, k_num):\n",
    "    \"\"\"\n",
    "    \"\"\"\n",
    "    N, D = X_Frame.shape\n",
    "    print(Sigma)\n",
    "    psi = np.zeros([N,k_num])\n",
    "    Gamma = np.zeros([N,k_num])\n",
    "    for k in list(range(k_num)):\n",
    "        Y = X_Frame - np.tile(Mu[k,:],(N,1))\n",
    "        Det = np.linalg.det(Sigma[k,:,:])\n",
    "        #for l in list(range(N)):\n",
    "        Cov_inter = np.dot(np.dot(Y, np.linalg.inv(Sigma[k,:,:])), np.transpose(Y))\n",
    "        for l in list(range(N)):\n",
    "            psi[l,k] = ((2*math.pi)**(-D/2))*(Det**(-1/2))*math.exp(-1/2*Cov_inter[l,l])\n",
    "        #DFAFA = ((2*math.pi)**(-D/2))*(Det**(-1/2))*np.diag(math.exp(-1/2*Cov_inter))\n",
    "    #print(psi)\n",
    "    \n",
    "    for i in list(range(N)):\n",
    "        for j in list(range(k_num)):\n",
    "            Gamma[i,j] = Pi[0,j]*psi[i,j]/sum(np.dot(psi[i,:], np.transpose(Pi)))\n",
    "    #print(Gamma)   \n",
    "    return Gamma     "
   ]
  },
  {
   "cell_type": "markdown",
   "metadata": {},
   "source": [
    "## implementation for M-Step"
   ]
  },
  {
   "cell_type": "code",
   "execution_count": 4,
   "metadata": {},
   "outputs": [],
   "source": [
    "def Maximization_step(X_Frame, Gamma, k_num, Mu, Sigma, Pi,):\n",
    "    \"\"\"\n",
    "    \"\"\"\n",
    "    N, D = X_Frame.shape\n",
    "    for k in list(range(k_num)):\n",
    "        # update Mu\n",
    "        Mu_sum = np.zeros([1,D])\n",
    "        for i in list(range(N)):\n",
    "            Mu_sum = Mu_sum+Gamma[i,k]*X_Frame[i,:]\n",
    "        Mu[k,:] = Mu_sum/sum(Gamma[:,k])\n",
    "        # update Sigma\n",
    "        Sigma_SUM = np.zeros([D,D])\n",
    "        for j in list(range(N)):\n",
    "            Sigma_SUM = Sigma_SUM + Gamma[j,k]*np.transpose(X_Frame[j,:]-Mu[k,:])*(X_Frame[j,:]-Mu[k,:])\n",
    "        Sigma[k,:,:] = Sigma_SUM/sum(Gamma[:,k])\n",
    "        # updata Pi\n",
    "        Pi_SUM = 0\n",
    "        for m in list(range(N)):\n",
    "            Pi_SUM = Pi_SUM + Gamma[m,k]\n",
    "        Pi[0,k] = Pi_SUM/N\n",
    "    \n",
    "    return Mu, Sigma, Pi\n",
    "        \n",
    "        "
   ]
  },
  {
   "cell_type": "code",
   "execution_count": 5,
   "metadata": {},
   "outputs": [],
   "source": [
    "def gaussianMM(X, k_centnum):\n",
    "    \"\"\"\n",
    "    \"\"\"\n",
    "    #psi = np.zeros([N,k_centnum])\n",
    "    N, D = X.shape\n",
    "    Mu = X[:4,:]\n",
    "    Sigma = np.zeros([k_centnum,D,D])\n",
    "    \n",
    "    \n",
    "    Pi = np.zeros([1,k_centnum])\n",
    "    \n",
    "    for s in list(range(k_centnum)):\n",
    "        Pi[0,s] = 1/k_centnum\n",
    "        Sigma[s,:,:] = np.cov(np.transpose(X))\n",
    "    Lmu = Mu\n",
    "    Lsigma = Sigma\n",
    "    Lpi = Pi\n",
    "    \n",
    "    while (True):\n",
    "        \n",
    "        Gamma = Estimation_step(X, Mu, Sigma, Pi, k_centnum)\n",
    "        # Estimation step\n",
    "        Mu, Sigma, Pi = Maximization_step(X, Gamma, k_centnum, Mu, Sigma, Pi)\n",
    "     \n",
    "        # Maximization Step \n",
    "        R_Mu = sum(sum(abs(Lmu - Mu)))\n",
    "        \n",
    "        R_Sigma = sum(sum(sum(abs(Lsigma-Sigma))))\n",
    "        \n",
    "        R_Pi = sum(sum(abs(Lpi - Pi)))\n",
    "        \n",
    "        R = R_Mu+R_Sigma+R_Pi\n",
    "        if (R<1e-10):\n",
    "            print('Expect:')\n",
    "            print(Mu)\n",
    "            print('Covariance:')\n",
    "            print(Sigma)\n",
    "            print('Weight:')\n",
    "            print(Pi)\n",
    "            print(sum(sum(Pi)))\n",
    "            break\n",
    "        Lmu = Mu\n",
    "        Lsigma = Sigma\n",
    "        Lpi = Pi"
   ]
  },
  {
   "cell_type": "code",
   "execution_count": 6,
   "metadata": {},
   "outputs": [],
   "source": [
    "def main():\n",
    "    \n",
    "    diroot = r\"D:\\Users\\dell\\AppData\\Roaming\\SPB_Data\\RBFNN\\Matlab_File\"\n",
    "    \n",
    "    Data_r = loadmat(os.path.join(diroot,'direct02_16-09-07_0718_001.mat'))\n",
    "    Datar = Data_r['x']\n",
    "    \n",
    "    Data_Frame = Slice_oneframe(Datar)\n",
    "    \n",
    "    gaussianMM(Data_Frame, 4)\n",
    "    Dframe = pd.DataFrame(Data_Frame)\n",
    "    #print(Data_Frame)\n",
    "    fig = plt.figure(1) \n",
    "    #fig.suptitle('No axes on this figure')\n",
    "    plt.scatter(Dframe[0],Dframe[1])\n",
    "    \n",
    "    #gmm = GaussianMixture(n_components=3)\n",
    "    \n",
    "    #gmm.fit(Dframe)\n",
    "    \n",
    "    #labels = gmm.predict(Dframe)\n",
    "    #print(labels)\n",
    "    \n",
    "    #params = gmm.get_params()\n",
    "    #print(params)\n",
    "    \n",
    "    #Dframe['labels']= labels\n",
    "    #d0 = Dframe[Dframe['labels']== 0]\n",
    "    #d1 = Dframe[Dframe['labels']== 1]\n",
    "    #d2 = Dframe[Dframe['labels']== 2]\n",
    "    #d3 = Dframe[Dframe['labels']== 3]\n",
    "    \n",
    "    \n",
    "    #plt.scatter(d0[0],d0[1],c='r')\n",
    "    #plt.scatter(d1[0],d1[1],c='yellow')\n",
    "    #plt.scatter(d2[0],d2[1],c='g')\n",
    "    #plt.scatter(d3[0],d3[1],c='b')\n",
    "    "
   ]
  },
  {
   "cell_type": "code",
   "execution_count": 7,
   "metadata": {},
   "outputs": [
    {
     "name": "stdout",
     "output_type": "stream",
     "text": [
      "[[[1.97107794e-05 6.18326664e-07]\n",
      "  [6.18326664e-07 1.93626775e-05]]\n",
      "\n",
      " [[1.97107794e-05 6.18326664e-07]\n",
      "  [6.18326664e-07 1.93626775e-05]]\n",
      "\n",
      " [[1.97107794e-05 6.18326664e-07]\n",
      "  [6.18326664e-07 1.93626775e-05]]\n",
      "\n",
      " [[1.97107794e-05 6.18326664e-07]\n",
      "  [6.18326664e-07 1.93626775e-05]]]\n",
      "Expect:\n",
      "[[-0.00327684  0.00320766]\n",
      " [ 0.00331975 -0.00339181]\n",
      " [-0.00331926 -0.00342805]\n",
      " [ 0.00343321  0.00330784]]\n",
      "Covariance:\n",
      "[[[8.84810630e-06 8.71471798e-06]\n",
      "  [8.84810630e-06 8.71471798e-06]]\n",
      "\n",
      " [[8.62187123e-06 7.98037611e-06]\n",
      "  [8.62187123e-06 7.98037611e-06]]\n",
      "\n",
      " [[8.79836185e-06 7.83662577e-06]\n",
      "  [8.79836185e-06 7.83662577e-06]]\n",
      "\n",
      " [[7.86824802e-06 8.28482260e-06]\n",
      "  [7.86824802e-06 8.28482260e-06]]]\n",
      "Weight:\n",
      "[[0.2414077  0.25205221 0.25100621 0.25553389]]\n",
      "1.0000000000000002\n"
     ]
    },
    {
     "data": {
      "image/png": "[encoded data removed]",
      "text/plain": [
       "<Figure size 432x288 with 1 Axes>"
      ]
     },
     "metadata": {
      "needs_background": "light"
     },
     "output_type": "display_data"
    }
   ],
   "source": [
    "if __name__ ==\"__main__\":\n",
    "\n",
    "    main()"
   ]
  },
  {
   "cell_type": "code",
   "execution_count": 8,
   "metadata": {},
   "outputs": [
    {
     "ename": "TypeError",
     "evalue": "only size-1 arrays can be converted to Python scalars",
     "output_type": "error",
     "traceback": [
      "\u001b[1;31m---------------------------------------------------------------------------\u001b[0m",
      "\u001b[1;31mTypeError\u001b[0m                                 Traceback (most recent call last)",
      "\u001b[1;32m<ipython-input-8-b269affab0a7>\u001b[0m in \u001b[0;36m<module>\u001b[1;34m\u001b[0m\n\u001b[0;32m      1\u001b[0m \u001b[1;32mfrom\u001b[0m \u001b[0mnumpy\u001b[0m \u001b[1;32mimport\u001b[0m \u001b[1;33m*\u001b[0m\u001b[1;33m\u001b[0m\u001b[1;33m\u001b[0m\u001b[0m\n\u001b[0;32m      2\u001b[0m \u001b[0mxq\u001b[0m \u001b[1;33m=\u001b[0m \u001b[0mnp\u001b[0m\u001b[1;33m.\u001b[0m\u001b[0marray\u001b[0m\u001b[1;33m(\u001b[0m\u001b[1;33m[\u001b[0m\u001b[1;33m[\u001b[0m\u001b[1;36m2\u001b[0m\u001b[1;33m,\u001b[0m\u001b[1;36m3\u001b[0m\u001b[1;33m]\u001b[0m\u001b[1;33m,\u001b[0m\u001b[1;33m[\u001b[0m\u001b[1;36m5\u001b[0m\u001b[1;33m,\u001b[0m\u001b[1;36m6\u001b[0m\u001b[1;33m]\u001b[0m\u001b[1;33m]\u001b[0m\u001b[1;33m)\u001b[0m\u001b[1;33m\u001b[0m\u001b[1;33m\u001b[0m\u001b[0m\n\u001b[1;32m----> 3\u001b[1;33m \u001b[0mxxx\u001b[0m \u001b[1;33m=\u001b[0m \u001b[0mmath\u001b[0m\u001b[1;33m.\u001b[0m\u001b[0mexp\u001b[0m\u001b[1;33m(\u001b[0m\u001b[0mxq\u001b[0m\u001b[1;33m[\u001b[0m\u001b[1;36m1\u001b[0m\u001b[1;33m,\u001b[0m\u001b[1;33m:\u001b[0m\u001b[1;33m]\u001b[0m\u001b[1;33m)\u001b[0m\u001b[1;33m\u001b[0m\u001b[1;33m\u001b[0m\u001b[0m\n\u001b[0m",
      "\u001b[1;31mTypeError\u001b[0m: only size-1 arrays can be converted to Python scalars"
     ]
    }
   ],
   "source": [
    "from numpy import *\n",
    "xq = np.array([[2,3],[5,6]])\n",
    "xxx = math.exp(xq[1,:])"
   ]
  }
 ],
 "metadata": {
  "kernelspec": {
   "display_name": "Python 3",
   "language": "python",
   "name": "python3"
  },
  "language_info": {
   "codemirror_mode": {
    "name": "ipython",
    "version": 3
   },
   "file_extension": ".py",
   "mimetype": "text/x-python",
   "name": "python",
   "nbconvert_exporter": "python",
   "pygments_lexer": "ipython3",
   "version": "3.7.3"
  }
 },
 "nbformat": 4,
 "nbformat_minor": 2
}
